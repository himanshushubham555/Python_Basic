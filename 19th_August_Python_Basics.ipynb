{
 "cells": [
  {
   "cell_type": "code",
   "execution_count": null,
   "id": "752d8766-32b5-42a9-90d9-4c9f464dc862",
   "metadata": {},
   "outputs": [],
   "source": [
    "\"\"\"\n",
    "1. Declare two variables, `x` and `y`, and assign them integer values. Swap the\n",
    "values of these variables without using any temporary variable.\n",
    "\"\"\"\n",
    "x = 5\n",
    "y = 10\n",
    "x = x + y\n",
    "y = x - y\n",
    "x = x - y"
   ]
  },
  {
   "cell_type": "code",
   "execution_count": null,
   "id": "42da6a9e-1088-498e-b9ef-f81a03c617e4",
   "metadata": {},
   "outputs": [],
   "source": [
    "'''\n",
    "2. Create a program that calculates the area of a rectangle. Take the length and\n",
    "width as inputs from the user and store them in variables. Calculate and\n",
    "display the area.\n",
    "'''\n",
    "length = float(input(\"Enter the length of the rectangle: \"))\n",
    "width = float(input(\"Enter the width of the rectangle: \"))\n",
    "area = length*width\n",
    "print(\"Area = \", area)\n"
   ]
  },
  {
   "cell_type": "code",
   "execution_count": null,
   "id": "0ebbdaca-f5af-4c09-b363-9101f439bf82",
   "metadata": {},
   "outputs": [],
   "source": [
    "'''\n",
    "3. Write a Python program that converts temperatures from Celsius to\n",
    "Fahrenheit. Take the temperature in Celsius as input, store it in a variable,\n",
    "convert it to Fahrenheit, and display the result.\n",
    "'''\n",
    "celsius = float(input(\"Enter the temperature in Celsius: \"))\n",
    "\n",
    "# Convert Celsius to Fahrenheit\n",
    "fahrenheit = (celsius * 9/5) + 32\n",
    "print(\"Temperature in Fahrenheit:\", fahrenheit)\n"
   ]
  },
  {
   "cell_type": "code",
   "execution_count": 3,
   "id": "94616590-51bd-4a4d-8f28-8390236ffc7b",
   "metadata": {},
   "outputs": [
    {
     "name": "stdin",
     "output_type": "stream",
     "text": [
      "Enter string him\n"
     ]
    },
    {
     "name": "stdout",
     "output_type": "stream",
     "text": [
      "lenth of string =  3\n"
     ]
    }
   ],
   "source": [
    "#1. Write a Python program that takes a string as input and prints the length of\n",
    "#the string.\n",
    "inputstr = input(\"Enter string\")\n",
    "print(\"lenth of string = \" , len(inputstr))\n"
   ]
  },
  {
   "cell_type": "code",
   "execution_count": 4,
   "id": "6e660811-de94-4eb1-a8ce-37570a5ef9ca",
   "metadata": {
    "tags": []
   },
   "outputs": [
    {
     "name": "stdin",
     "output_type": "stream",
     "text": [
      "Enter a sentence:  Hi Himanshu\n"
     ]
    },
    {
     "name": "stdout",
     "output_type": "stream",
     "text": [
      "The number of vowels in the sentence is: 4\n"
     ]
    }
   ],
   "source": [
    "'''\n",
    "Create a program that takes a sentence from the user and counts the number\n",
    "of vowels (a, e, i, o, u) in the string.\n",
    "'''\n",
    "sentence = input(\"Enter a sentence: \")\n",
    "\n",
    "# Converting the sentence to lowercase to handle both upper and lower case vowels\n",
    "sentence = sentence.lower()\n",
    "\n",
    "# Initialize a variable to count vowels\n",
    "vowel_count = 0\n",
    "\n",
    "# Iterate through the charachter of sentence and counting if it is vowel\n",
    "# \"in\" Returns True if a sequence with the specified value is present in the object\n",
    "for char in sentence:\n",
    "    if char in \"aeiou\":\n",
    "        vowel_count += 1\n",
    "\n",
    "# Print the number of vowels\n",
    "print(f\"The number of vowels in the sentence is: {vowel_count}\")\n"
   ]
  },
  {
   "cell_type": "code",
   "execution_count": 5,
   "id": "68fc970b-5acd-438c-8a66-9203bebe265a",
   "metadata": {},
   "outputs": [
    {
     "name": "stdout",
     "output_type": "stream",
     "text": [
      "The reversed string is: uhsnamiH\n"
     ]
    }
   ],
   "source": [
    "'''\n",
    "Given a string, reverse the order of characters using string slicing and print\n",
    "the reversed string.\n",
    "'''\n",
    "string = \"Himanshu\"\n",
    "# -1 represent step size equal to 1 from last index\n",
    "reversed_string = string[::-1]\n",
    "\n",
    "# Print the reversed string\n",
    "print(f\"The reversed string is: {reversed_string}\")"
   ]
  },
  {
   "cell_type": "code",
   "execution_count": 6,
   "id": "33d5b07d-a582-4c44-9140-ee9e8681f20d",
   "metadata": {},
   "outputs": [
    {
     "name": "stdin",
     "output_type": "stream",
     "text": [
      "Enter a string:  aba\n"
     ]
    },
    {
     "name": "stdout",
     "output_type": "stream",
     "text": [
      "The string is a palindrome.\n"
     ]
    }
   ],
   "source": [
    "'''\n",
    "Write a program that takes a string as input and checks if it is a palindrome\n",
    "(reads the same forwards and backwards).\n",
    "'''\n",
    "input_string = input(\"Enter a string: \")\n",
    "\n",
    "#converting string into lowercase bease python is case sensitive \n",
    "input_string = input_string.lower()\n",
    "\n",
    "# Check if the string is a palindrome just by reversing the string and compareing with input_string\n",
    "# if it is equal than then it is palindrom\n",
    "if input_string == input_string[::-1]:\n",
    "    print(\"The string is a palindrome.\")\n",
    "else:\n",
    "    print(\"The string is not a palindrome.\")\n"
   ]
  },
  {
   "cell_type": "code",
   "execution_count": null,
   "id": "efa0d66c-b665-409d-8bf0-d190850a9cbe",
   "metadata": {},
   "outputs": [
    {
     "name": "stdin",
     "output_type": "stream",
     "text": [
      "Enter a string with spaces:  Him anshu\n"
     ]
    },
    {
     "name": "stdout",
     "output_type": "stream",
     "text": [
      "The modified string without spaces is: Himanshu\n"
     ]
    }
   ],
   "source": [
    "'''\n",
    "Create a program that takes a string as input and removes all the spaces from\n",
    "it. Print the modified string without spaces.\n",
    "'''\n",
    "input_string = input(\"Enter a string with spaces: \")\n",
    "\n",
    "# i am using build in method replace which replace old value with new value. first argument is old value and \n",
    "# second argumnet is new value\n",
    "modified_string = input_string.replace(\" \", \"\")\n",
    "\n",
    "# Print the modified string without spaces\n",
    "print(f\"The modified string without spaces is: {modified_string}\")\n"
   ]
  },
  {
   "cell_type": "code",
   "execution_count": null,
   "id": "f55ff615-4fbd-42f8-ad44-5b9050605b8c",
   "metadata": {},
   "outputs": [],
   "source": []
  }
 ],
 "metadata": {
  "kernelspec": {
   "display_name": "Python 3 (ipykernel)",
   "language": "python",
   "name": "python3"
  },
  "language_info": {
   "codemirror_mode": {
    "name": "ipython",
    "version": 3
   },
   "file_extension": ".py",
   "mimetype": "text/x-python",
   "name": "python",
   "nbconvert_exporter": "python",
   "pygments_lexer": "ipython3",
   "version": "3.10.8"
  }
 },
 "nbformat": 4,
 "nbformat_minor": 5
}
